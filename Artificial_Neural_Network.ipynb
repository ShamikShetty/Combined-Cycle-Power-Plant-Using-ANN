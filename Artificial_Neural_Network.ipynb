{
  "nbformat": 4,
  "nbformat_minor": 0,
  "metadata": {
    "colab": {
      "provenance": []
    },
    "kernelspec": {
      "name": "python3",
      "display_name": "Python 3"
    }
  },
  "cells": [
    {
      "cell_type": "markdown",
      "metadata": {
        "id": "3cbb7fRy-eyr"
      },
      "source": [
        "# Artificial Neural Network"
      ]
    },
    {
      "cell_type": "markdown",
      "metadata": {
        "id": "8sNDnxE2-pwE"
      },
      "source": [
        "### Importing the libraries"
      ]
    },
    {
      "cell_type": "code",
      "metadata": {
        "id": "lxChR1Rk-umf"
      },
      "source": [
        "import numpy as np\n",
        "import pandas as pd\n",
        "import tensorflow as tf"
      ],
      "execution_count": 1,
      "outputs": []
    },
    {
      "cell_type": "code",
      "metadata": {
        "id": "uBTqR3nacj0e",
        "colab": {
          "base_uri": "https://localhost:8080/",
          "height": 35
        },
        "outputId": "efeb0900-f8cc-4efd-d0f6-c194fc2e6725"
      },
      "source": [
        "tf.__version__"
      ],
      "execution_count": 2,
      "outputs": [
        {
          "output_type": "execute_result",
          "data": {
            "text/plain": [
              "'2.12.0'"
            ],
            "application/vnd.google.colaboratory.intrinsic+json": {
              "type": "string"
            }
          },
          "metadata": {},
          "execution_count": 2
        }
      ]
    },
    {
      "cell_type": "markdown",
      "metadata": {
        "id": "AG3FQEch-yuA"
      },
      "source": [
        "## Data Preprocessing"
      ]
    },
    {
      "cell_type": "markdown",
      "metadata": {
        "id": "-4zq8Mza_D9O"
      },
      "source": [
        "### Importing the dataset"
      ]
    },
    {
      "cell_type": "code",
      "source": [
        "from google.colab import drive\n",
        "drive.mount('/content/drive')"
      ],
      "metadata": {
        "colab": {
          "base_uri": "https://localhost:8080/"
        },
        "id": "SxV9Lp_F5DNQ",
        "outputId": "cb4c38cf-f3cd-4674-f4d8-1158701cf5c8"
      },
      "execution_count": 3,
      "outputs": [
        {
          "output_type": "stream",
          "name": "stdout",
          "text": [
            "Drive already mounted at /content/drive; to attempt to forcibly remount, call drive.mount(\"/content/drive\", force_remount=True).\n"
          ]
        }
      ]
    },
    {
      "cell_type": "code",
      "metadata": {
        "id": "B9CV13Co_HHM"
      },
      "source": [
        "\n",
        "dataset = pd.read_excel('/content/drive/MyDrive/Deep Learning/ Combined Cycle Power Plant Data Set/Folds5x2_pp.xlsx', engine='openpyxl')\n",
        "X = dataset.iloc[:, :-1].values\n",
        "y = dataset.iloc[:, -1].values"
      ],
      "execution_count": 4,
      "outputs": []
    },
    {
      "cell_type": "code",
      "source": [
        "dataset.shape"
      ],
      "metadata": {
        "colab": {
          "base_uri": "https://localhost:8080/"
        },
        "id": "Wq6lTmYOOvBb",
        "outputId": "0cb7b64d-5bd8-440c-c608-a4a2912ab5a8"
      },
      "execution_count": 5,
      "outputs": [
        {
          "output_type": "execute_result",
          "data": {
            "text/plain": [
              "(9568, 5)"
            ]
          },
          "metadata": {},
          "execution_count": 5
        }
      ]
    },
    {
      "cell_type": "code",
      "source": [
        "print(X)\n",
        "print(y)"
      ],
      "metadata": {
        "colab": {
          "base_uri": "https://localhost:8080/"
        },
        "id": "RCeiRU33Pmxt",
        "outputId": "84430fdd-220d-4fd4-9da4-e1564f6a10a9"
      },
      "execution_count": 6,
      "outputs": [
        {
          "output_type": "stream",
          "name": "stdout",
          "text": [
            "[[  14.96   41.76 1024.07   73.17]\n",
            " [  25.18   62.96 1020.04   59.08]\n",
            " [   5.11   39.4  1012.16   92.14]\n",
            " ...\n",
            " [  31.32   74.33 1012.92   36.48]\n",
            " [  24.48   69.45 1013.86   62.39]\n",
            " [  21.6    62.52 1017.23   67.87]]\n",
            "[463.26 444.37 488.56 ... 429.57 435.74 453.28]\n"
          ]
        }
      ]
    },
    {
      "cell_type": "markdown",
      "metadata": {
        "id": "VC6omXel_Up0"
      },
      "source": [
        "### Splitting the dataset into the Training set and Test set"
      ]
    },
    {
      "cell_type": "code",
      "metadata": {
        "id": "L5edeb2r_agx"
      },
      "source": [
        "from sklearn.model_selection import train_test_split\n",
        "X_train, X_test, y_train, y_test = train_test_split(X, y, test_size = 0.2, random_state = 0)"
      ],
      "execution_count": 7,
      "outputs": []
    },
    {
      "cell_type": "markdown",
      "metadata": {
        "id": "_mSLlAT9_eyI"
      },
      "source": [
        "##  Building the ANN"
      ]
    },
    {
      "cell_type": "markdown",
      "metadata": {
        "id": "CsBULd_f_wLY"
      },
      "source": [
        "### Initializing the ANN"
      ]
    },
    {
      "cell_type": "code",
      "metadata": {
        "id": "J6Hd97Ls__Nz"
      },
      "source": [
        "ann = tf.keras.models.Sequential()"
      ],
      "execution_count": 8,
      "outputs": []
    },
    {
      "cell_type": "markdown",
      "metadata": {
        "id": "iitAFJS_ABUn"
      },
      "source": [
        "### Adding the input layer and the first hidden layer"
      ]
    },
    {
      "cell_type": "code",
      "metadata": {
        "id": "ksO_Vv40AHix"
      },
      "source": [
        "ann.add(tf.keras.layers.Dense(units=6, activation='relu'))"
      ],
      "execution_count": 9,
      "outputs": []
    },
    {
      "cell_type": "markdown",
      "metadata": {
        "id": "-lb4kK_wAKbs"
      },
      "source": [
        "### Adding the second hidden layer"
      ]
    },
    {
      "cell_type": "code",
      "metadata": {
        "id": "c2357OqEAQOQ"
      },
      "source": [
        "ann.add(tf.keras.layers.Dense(units=6, activation='relu'))"
      ],
      "execution_count": 10,
      "outputs": []
    },
    {
      "cell_type": "markdown",
      "metadata": {
        "id": "jwMOmKb3AdBY"
      },
      "source": [
        "### Adding the output layer"
      ]
    },
    {
      "cell_type": "code",
      "metadata": {
        "id": "YFATpzsUAkLL"
      },
      "source": [
        "ann.add(tf.keras.layers.Dense(units=1))"
      ],
      "execution_count": 11,
      "outputs": []
    },
    {
      "cell_type": "markdown",
      "metadata": {
        "id": "fq7e4fF6A1yy"
      },
      "source": [
        "##  Training the ANN"
      ]
    },
    {
      "cell_type": "markdown",
      "metadata": {
        "id": "qDeylAs2An25"
      },
      "source": [
        "### Compiling the ANN"
      ]
    },
    {
      "cell_type": "code",
      "metadata": {
        "id": "pesgbWlCAtB4"
      },
      "source": [
        "ann.compile(optimizer = 'adam', loss = 'mean_squared_error')"
      ],
      "execution_count": 12,
      "outputs": []
    },
    {
      "cell_type": "markdown",
      "metadata": {
        "id": "YjVuiybYOo7r"
      },
      "source": [
        "### Training the ANN model on the Training set"
      ]
    },
    {
      "cell_type": "code",
      "metadata": {
        "id": "c_vV-tiiA5zn",
        "colab": {
          "base_uri": "https://localhost:8080/"
        },
        "outputId": "24b34ba6-6956-4b39-ff76-61ed62b57bbe"
      },
      "source": [
        "ann.fit(X_train, y_train, batch_size = 32, epochs = 100)"
      ],
      "execution_count": 13,
      "outputs": [
        {
          "output_type": "stream",
          "name": "stdout",
          "text": [
            "Epoch 1/100\n",
            "240/240 [==============================] - 3s 3ms/step - loss: 162747.4062\n",
            "Epoch 2/100\n",
            "240/240 [==============================] - 1s 2ms/step - loss: 3185.0220\n",
            "Epoch 3/100\n",
            "240/240 [==============================] - 1s 3ms/step - loss: 180.3484\n",
            "Epoch 4/100\n",
            "240/240 [==============================] - 1s 3ms/step - loss: 178.1989\n",
            "Epoch 5/100\n",
            "240/240 [==============================] - 1s 3ms/step - loss: 175.8335\n",
            "Epoch 6/100\n",
            "240/240 [==============================] - 1s 3ms/step - loss: 173.0200\n",
            "Epoch 7/100\n",
            "240/240 [==============================] - 1s 3ms/step - loss: 169.8571\n",
            "Epoch 8/100\n",
            "240/240 [==============================] - 1s 3ms/step - loss: 166.2454\n",
            "Epoch 9/100\n",
            "240/240 [==============================] - 1s 2ms/step - loss: 162.0762\n",
            "Epoch 10/100\n",
            "240/240 [==============================] - 1s 3ms/step - loss: 157.6973\n",
            "Epoch 11/100\n",
            "240/240 [==============================] - 1s 5ms/step - loss: 152.6690\n",
            "Epoch 12/100\n",
            "240/240 [==============================] - 1s 4ms/step - loss: 147.1535\n",
            "Epoch 13/100\n",
            "240/240 [==============================] - 1s 4ms/step - loss: 141.3069\n",
            "Epoch 14/100\n",
            "240/240 [==============================] - 1s 4ms/step - loss: 135.3255\n",
            "Epoch 15/100\n",
            "240/240 [==============================] - 1s 4ms/step - loss: 128.6279\n",
            "Epoch 16/100\n",
            "240/240 [==============================] - 0s 2ms/step - loss: 121.8420\n",
            "Epoch 17/100\n",
            "240/240 [==============================] - 0s 1ms/step - loss: 114.9223\n",
            "Epoch 18/100\n",
            "240/240 [==============================] - 0s 1ms/step - loss: 107.4024\n",
            "Epoch 19/100\n",
            "240/240 [==============================] - 0s 1ms/step - loss: 100.1110\n",
            "Epoch 20/100\n",
            "240/240 [==============================] - 0s 1ms/step - loss: 92.9168\n",
            "Epoch 21/100\n",
            "240/240 [==============================] - 0s 1ms/step - loss: 85.6083\n",
            "Epoch 22/100\n",
            "240/240 [==============================] - 0s 2ms/step - loss: 78.6342\n",
            "Epoch 23/100\n",
            "240/240 [==============================] - 0s 1ms/step - loss: 72.4303\n",
            "Epoch 24/100\n",
            "240/240 [==============================] - 0s 2ms/step - loss: 66.3001\n",
            "Epoch 25/100\n",
            "240/240 [==============================] - 0s 2ms/step - loss: 61.0363\n",
            "Epoch 26/100\n",
            "240/240 [==============================] - 0s 1ms/step - loss: 55.8745\n",
            "Epoch 27/100\n",
            "240/240 [==============================] - 0s 1ms/step - loss: 51.3881\n",
            "Epoch 28/100\n",
            "240/240 [==============================] - 0s 2ms/step - loss: 47.7347\n",
            "Epoch 29/100\n",
            "240/240 [==============================] - 0s 1ms/step - loss: 44.7258\n",
            "Epoch 30/100\n",
            "240/240 [==============================] - 0s 1ms/step - loss: 41.6697\n",
            "Epoch 31/100\n",
            "240/240 [==============================] - 0s 2ms/step - loss: 39.5930\n",
            "Epoch 32/100\n",
            "240/240 [==============================] - 0s 2ms/step - loss: 37.8215\n",
            "Epoch 33/100\n",
            "240/240 [==============================] - 0s 2ms/step - loss: 36.1746\n",
            "Epoch 34/100\n",
            "240/240 [==============================] - 0s 2ms/step - loss: 34.8106\n",
            "Epoch 35/100\n",
            "240/240 [==============================] - 0s 2ms/step - loss: 33.7335\n",
            "Epoch 36/100\n",
            "240/240 [==============================] - 0s 2ms/step - loss: 32.5750\n",
            "Epoch 37/100\n",
            "240/240 [==============================] - 0s 2ms/step - loss: 31.7136\n",
            "Epoch 38/100\n",
            "240/240 [==============================] - 0s 2ms/step - loss: 31.5652\n",
            "Epoch 39/100\n",
            "240/240 [==============================] - 0s 2ms/step - loss: 30.6625\n",
            "Epoch 40/100\n",
            "240/240 [==============================] - 0s 1ms/step - loss: 30.5773\n",
            "Epoch 41/100\n",
            "240/240 [==============================] - 1s 2ms/step - loss: 30.0965\n",
            "Epoch 42/100\n",
            "240/240 [==============================] - 1s 2ms/step - loss: 29.9985\n",
            "Epoch 43/100\n",
            "240/240 [==============================] - 1s 2ms/step - loss: 29.8246\n",
            "Epoch 44/100\n",
            "240/240 [==============================] - 1s 2ms/step - loss: 29.1705\n",
            "Epoch 45/100\n",
            "240/240 [==============================] - 1s 3ms/step - loss: 29.4142\n",
            "Epoch 46/100\n",
            "240/240 [==============================] - 0s 2ms/step - loss: 28.6364\n",
            "Epoch 47/100\n",
            "240/240 [==============================] - 0s 2ms/step - loss: 28.6305\n",
            "Epoch 48/100\n",
            "240/240 [==============================] - 0s 2ms/step - loss: 28.7798\n",
            "Epoch 49/100\n",
            "240/240 [==============================] - 0s 2ms/step - loss: 28.7822\n",
            "Epoch 50/100\n",
            "240/240 [==============================] - 0s 2ms/step - loss: 28.2155\n",
            "Epoch 51/100\n",
            "240/240 [==============================] - 0s 1ms/step - loss: 28.0099\n",
            "Epoch 52/100\n",
            "240/240 [==============================] - 0s 2ms/step - loss: 27.8791\n",
            "Epoch 53/100\n",
            "240/240 [==============================] - 0s 2ms/step - loss: 28.8412\n",
            "Epoch 54/100\n",
            "240/240 [==============================] - 0s 1ms/step - loss: 28.2622\n",
            "Epoch 55/100\n",
            "240/240 [==============================] - 0s 2ms/step - loss: 28.1353\n",
            "Epoch 56/100\n",
            "240/240 [==============================] - 0s 1ms/step - loss: 27.8921\n",
            "Epoch 57/100\n",
            "240/240 [==============================] - 0s 1ms/step - loss: 27.5062\n",
            "Epoch 58/100\n",
            "240/240 [==============================] - 0s 2ms/step - loss: 27.8930\n",
            "Epoch 59/100\n",
            "240/240 [==============================] - 0s 2ms/step - loss: 27.3009\n",
            "Epoch 60/100\n",
            "240/240 [==============================] - 0s 2ms/step - loss: 27.2444\n",
            "Epoch 61/100\n",
            "240/240 [==============================] - 0s 1ms/step - loss: 27.5548\n",
            "Epoch 62/100\n",
            "240/240 [==============================] - 0s 1ms/step - loss: 27.8277\n",
            "Epoch 63/100\n",
            "240/240 [==============================] - 0s 2ms/step - loss: 27.3596\n",
            "Epoch 64/100\n",
            "240/240 [==============================] - 0s 2ms/step - loss: 26.9649\n",
            "Epoch 65/100\n",
            "240/240 [==============================] - 0s 1ms/step - loss: 27.0733\n",
            "Epoch 66/100\n",
            "240/240 [==============================] - 0s 2ms/step - loss: 27.5225\n",
            "Epoch 67/100\n",
            "240/240 [==============================] - 0s 2ms/step - loss: 26.7009\n",
            "Epoch 68/100\n",
            "240/240 [==============================] - 0s 2ms/step - loss: 27.4579\n",
            "Epoch 69/100\n",
            "240/240 [==============================] - 0s 2ms/step - loss: 26.9041\n",
            "Epoch 70/100\n",
            "240/240 [==============================] - 0s 2ms/step - loss: 26.8054\n",
            "Epoch 71/100\n",
            "240/240 [==============================] - 0s 2ms/step - loss: 27.0414\n",
            "Epoch 72/100\n",
            "240/240 [==============================] - 0s 2ms/step - loss: 27.2167\n",
            "Epoch 73/100\n",
            "240/240 [==============================] - 0s 1ms/step - loss: 26.7192\n",
            "Epoch 74/100\n",
            "240/240 [==============================] - 0s 2ms/step - loss: 27.5071\n",
            "Epoch 75/100\n",
            "240/240 [==============================] - 0s 1ms/step - loss: 26.7969\n",
            "Epoch 76/100\n",
            "240/240 [==============================] - 0s 2ms/step - loss: 26.7474\n",
            "Epoch 77/100\n",
            "240/240 [==============================] - 1s 2ms/step - loss: 26.9165\n",
            "Epoch 78/100\n",
            "240/240 [==============================] - 1s 2ms/step - loss: 27.3125\n",
            "Epoch 79/100\n",
            "240/240 [==============================] - 1s 2ms/step - loss: 26.7625\n",
            "Epoch 80/100\n",
            "240/240 [==============================] - 1s 2ms/step - loss: 26.6195\n",
            "Epoch 81/100\n",
            "240/240 [==============================] - 0s 2ms/step - loss: 27.5502\n",
            "Epoch 82/100\n",
            "240/240 [==============================] - 1s 2ms/step - loss: 26.6395\n",
            "Epoch 83/100\n",
            "240/240 [==============================] - 1s 3ms/step - loss: 26.6233\n",
            "Epoch 84/100\n",
            "240/240 [==============================] - 1s 3ms/step - loss: 26.9136\n",
            "Epoch 85/100\n",
            "240/240 [==============================] - 1s 3ms/step - loss: 26.4316\n",
            "Epoch 86/100\n",
            "240/240 [==============================] - 1s 3ms/step - loss: 26.7852\n",
            "Epoch 87/100\n",
            "240/240 [==============================] - 1s 3ms/step - loss: 26.4087\n",
            "Epoch 88/100\n",
            "240/240 [==============================] - 1s 3ms/step - loss: 26.9261\n",
            "Epoch 89/100\n",
            "240/240 [==============================] - 1s 2ms/step - loss: 26.7226\n",
            "Epoch 90/100\n",
            "240/240 [==============================] - 1s 3ms/step - loss: 26.6924\n",
            "Epoch 91/100\n",
            "240/240 [==============================] - 1s 3ms/step - loss: 26.4333\n",
            "Epoch 92/100\n",
            "240/240 [==============================] - 1s 3ms/step - loss: 27.0101\n",
            "Epoch 93/100\n",
            "240/240 [==============================] - 1s 3ms/step - loss: 26.2370\n",
            "Epoch 94/100\n",
            "240/240 [==============================] - 1s 3ms/step - loss: 26.6800\n",
            "Epoch 95/100\n",
            "240/240 [==============================] - 1s 3ms/step - loss: 27.0660\n",
            "Epoch 96/100\n",
            "240/240 [==============================] - 1s 3ms/step - loss: 26.4656\n",
            "Epoch 97/100\n",
            "240/240 [==============================] - 1s 4ms/step - loss: 26.6038\n",
            "Epoch 98/100\n",
            "240/240 [==============================] - 1s 4ms/step - loss: 26.6179\n",
            "Epoch 99/100\n",
            "240/240 [==============================] - 1s 5ms/step - loss: 26.8823\n",
            "Epoch 100/100\n",
            "240/240 [==============================] - 1s 4ms/step - loss: 26.7614\n"
          ]
        },
        {
          "output_type": "execute_result",
          "data": {
            "text/plain": [
              "<keras.callbacks.History at 0x7fcae263db10>"
            ]
          },
          "metadata": {},
          "execution_count": 13
        }
      ]
    },
    {
      "cell_type": "markdown",
      "metadata": {
        "id": "0H0zKKNEBLD5"
      },
      "source": [
        "### Predicting the results of the Test set"
      ]
    },
    {
      "cell_type": "code",
      "metadata": {
        "id": "IA0yApEmBG1X",
        "colab": {
          "base_uri": "https://localhost:8080/"
        },
        "outputId": "73f4c4a3-0ece-492c-e289-1c05c7d99271"
      },
      "source": [
        "y_pred = ann.predict(X_test)\n",
        "np.set_printoptions(precision=2)\n",
        "print(np.concatenate((y_pred.reshape(len(y_pred),1), y_test.reshape(len(y_test),1)),1))"
      ],
      "execution_count": 14,
      "outputs": [
        {
          "output_type": "stream",
          "name": "stdout",
          "text": [
            "60/60 [==============================] - 0s 3ms/step\n",
            "[[432.46 431.23]\n",
            " [463.82 460.01]\n",
            " [467.44 461.14]\n",
            " ...\n",
            " [474.48 473.26]\n",
            " [441.56 438.  ]\n",
            " [460.66 463.28]]\n"
          ]
        }
      ]
    }
  ]
}